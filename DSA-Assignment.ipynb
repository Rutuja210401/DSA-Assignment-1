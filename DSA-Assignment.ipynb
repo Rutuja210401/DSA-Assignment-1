{
 "cells": [
  {
   "cell_type": "code",
   "execution_count": 12,
   "id": "aee1c787",
   "metadata": {},
   "outputs": [
    {
     "name": "stdout",
     "output_type": "stream",
     "text": [
      "1 2 7 -1\n",
      "Number of pairs is:  2\n"
     ]
    }
   ],
   "source": [
    "# Write a program to find all pairs of an integer array whose sum is equal to a given number?\n",
    "def PairsCount(arr, n, K):\n",
    " \n",
    "    count = 0  \n",
    "    for i in range(0, n):\n",
    "        for j in range(i + 1, n):\n",
    "            if arr[i] + arr[j] == K:\n",
    "                count += 1\n",
    "    return count\n",
    "A=list(map(int,input().split()))\n",
    "# arr = [1, 5, 7, -1]\n",
    "n = len(arr)\n",
    "K = 6\n",
    "print(\"Number of pairs is: \",\n",
    "      PairsCount(arr, n, K))"
   ]
  },
  {
   "cell_type": "code",
   "execution_count": 11,
   "id": "f9782fd5",
   "metadata": {},
   "outputs": [
    {
     "name": "stdout",
     "output_type": "stream",
     "text": [
      "1 2 3 4 5 6\n",
      "Reversed list is\n",
      "[6, 5, 4, 3, 2, 1]\n"
     ]
    }
   ],
   "source": [
    "#  Write a program to reverse an array in place? In place means you cannot create a new array. \n",
    "# You have to update the original array.\n",
    "def reverseList(A, start, end):\n",
    "    while start < end:\n",
    "        A[start], A[end] = A[end], A[start]\n",
    "        start += 1\n",
    "        end -= 1\n",
    "A=list(map(int,input().split()))\n",
    "# A = [1, 2, 3, 4, 5, 6]\n",
    "# print(A)\n",
    "reverseList(A, 0, 5)\n",
    "print(\"Reversed list is\")\n",
    "print(A)\n"
   ]
  },
  {
   "cell_type": "code",
   "execution_count": 15,
   "id": "53e7642b",
   "metadata": {},
   "outputs": [
    {
     "name": "stdout",
     "output_type": "stream",
     "text": [
      "HELLO\n",
      "LOHEL\n",
      "Given Strings are rotations of each other.\n"
     ]
    }
   ],
   "source": [
    "# Write a program to check if two strings are a rotation of each other?\n",
    "def Rotation(s1, s2): \n",
    "    temp = '' \n",
    "    if len(s1) != len(s2): \n",
    "        return False\n",
    "    temp = s1 + s1 \n",
    "    if s2 in temp: \n",
    "        return True \n",
    "    else: \n",
    "        return False\n",
    "s1=str(input())\n",
    "s2=str(input())\n",
    "# s1 = \"HELLO\"\n",
    "# s2 = \"LOHEL\"\n",
    "if Rotation(s1, s2): \n",
    "    print(\"Given Strings are rotations of each other.\")\n",
    "else: \n",
    "    print(\"Given Strings are not rotations of each other.\")"
   ]
  },
  {
   "cell_type": "code",
   "execution_count": 27,
   "id": "5d2ae850",
   "metadata": {},
   "outputs": [
    {
     "name": "stdout",
     "output_type": "stream",
     "text": [
      "Enter the string: edyodapythonclasses\n",
      "First non-repeating character is p\n"
     ]
    }
   ],
   "source": [
    "# Write a program to print the first non-repeated character from a string?\n",
    "def FirstNonRepeat(string):\n",
    "    for i in string:\n",
    "        if (string.find(i, (string.find(i)+1))) == -1:\n",
    "            print(\"First non-repeating character is\", i)\n",
    "            break\n",
    "    return\n",
    "string =str(input(\"Enter the string: \"))\n",
    "FirstNonRepeat(string)"
   ]
  },
  {
   "cell_type": "code",
   "execution_count": 28,
   "id": "8b57c137",
   "metadata": {},
   "outputs": [
    {
     "name": "stdout",
     "output_type": "stream",
     "text": [
      "Move disk 1 from rod A to rod C\n",
      "Move disk 2 from rod A to rod B\n",
      "Move disk 1 from rod C to rod B\n",
      "Move disk 3 from rod A to rod C\n",
      "Move disk 1 from rod B to rod A\n",
      "Move disk 2 from rod B to rod C\n",
      "Move disk 1 from rod A to rod C\n"
     ]
    }
   ],
   "source": [
    "# Read about the Tower of Hanoi algorithm. Write a program to implement it.\n",
    "def TowerOfHanoi(n, from_rod, to_rod, aux_rod):\n",
    "    if n == 0:\n",
    "        return\n",
    "    TowerOfHanoi(n-1, from_rod, aux_rod, to_rod)\n",
    "    print(\"Move disk\", n, \"from rod\", from_rod, \"to rod\", to_rod)\n",
    "    TowerOfHanoi(n-1, aux_rod, to_rod, from_rod)\n",
    "N = 3\n",
    "TowerOfHanoi(N, 'A', 'C', 'B')"
   ]
  },
  {
   "cell_type": "code",
   "execution_count": 30,
   "id": "248b5f06",
   "metadata": {},
   "outputs": [
    {
     "name": "stdout",
     "output_type": "stream",
     "text": [
      "Prefix :  +AB-CD\n"
     ]
    }
   ],
   "source": [
    "#  Read about infix, prefix, and postfix expressions. Write a program to convert postfix to prefix expression.\n",
    "def isOperator(x):\n",
    "    if x == \"+\":\n",
    "        return True\n",
    "    if x == \"-\":\n",
    "        return True\n",
    "    if x == \"/\":\n",
    "        return True\n",
    "    if x == \"*\":\n",
    "        return True\n",
    "    return False\n",
    "def postToPre(post_exp):\n",
    "    s = []\n",
    "    length = len(post_exp)\n",
    "    for i in range(length):\n",
    "        if (isOperator(post_exp[i])):\n",
    "            op1 = s[-1]\n",
    "            s.pop()\n",
    "            op2 = s[-1]\n",
    "            s.pop()\n",
    "            temp = post_exp[i] + op2 + op1\n",
    "            s.append(temp)\n",
    "        else:\n",
    "            s.append(post_exp[i])\n",
    "    ans = \"\"\n",
    "    for i in s:\n",
    "        ans += i\n",
    "    return ans\n",
    "if __name__ == \"__main__\":\n",
    "    post_exp = \"AB+CD-\"\n",
    "    print(\"Prefix : \", postToPre(post_exp))\n",
    " "
   ]
  },
  {
   "cell_type": "code",
   "execution_count": 31,
   "id": "101e46c7",
   "metadata": {},
   "outputs": [
    {
     "name": "stdout",
     "output_type": "stream",
     "text": [
      "((A-(B/C))*((A/K)-L))\n"
     ]
    }
   ],
   "source": [
    "# Write a program to convert prefix expression to infix expression.\n",
    "def prefixToInfix(prefix):\n",
    "    stack = []\n",
    "    i = len(prefix) - 1\n",
    "    while i >= 0:\n",
    "        if not isOperator(prefix[i]):\n",
    "            stack.append(prefix[i])\n",
    "            i -= 1\n",
    "        else:\n",
    "            str = \"(\" + stack.pop() + prefix[i] + stack.pop() + \")\"\n",
    "            stack.append(str)\n",
    "            i -= 1\n",
    "    return stack.pop()\n",
    " \n",
    "def isOperator(c):\n",
    "    if c == \"*\" or c == \"+\" or c == \"-\" or c == \"/\" or c == \"^\" or c == \"(\" or c == \")\":\n",
    "        return True\n",
    "    else:\n",
    "        return False\n",
    "if __name__==\"__main__\":\n",
    "    str = \"*-A/BC-/AKL\"\n",
    "    print(prefixToInfix(str))"
   ]
  },
  {
   "cell_type": "code",
   "execution_count": 32,
   "id": "cfe78e1d",
   "metadata": {},
   "outputs": [
    {
     "name": "stdout",
     "output_type": "stream",
     "text": [
      "Balanced\n"
     ]
    }
   ],
   "source": [
    "#  Write a program to check if all the brackets are closed in a given code snippet.\n",
    " \n",
    "def areBracketsBalanced(expr):\n",
    "    stack = []\n",
    "    for char in expr:\n",
    "        if char in [\"(\", \"{\", \"[\"]:\n",
    "            stack.append(char)\n",
    "        else:\n",
    "            if not stack:\n",
    "                return False\n",
    "            current_char = stack.pop()\n",
    "            if current_char == '(':\n",
    "                if char != \")\":\n",
    "                    return False\n",
    "            if current_char == '{':\n",
    "                if char != \"}\":\n",
    "                    return False\n",
    "            if current_char == '[':\n",
    "                if char != \"]\":\n",
    "                    return False\n",
    "    if stack:\n",
    "        return False\n",
    "    return True\n",
    "if __name__ == \"__main__\":\n",
    "    expr = \"{()}[]\"\n",
    "    if areBracketsBalanced(expr):\n",
    "        print(\"Balanced\")\n",
    "    else:\n",
    "        print(\"Not Balanced\")"
   ]
  },
  {
   "cell_type": "code",
   "execution_count": 1,
   "id": "a752f923",
   "metadata": {},
   "outputs": [
    {
     "name": "stdout",
     "output_type": "stream",
     "text": [
      "Original Stack \n",
      "1 2 3 4 \n",
      "Reversed Stack \n",
      "4 3 2 1 \n"
     ]
    }
   ],
   "source": [
    "# Write a program to reverse a stack.\n",
    "def insertAtBottom(stack, item):\n",
    "    if isEmpty(stack):\n",
    "        push(stack, item)\n",
    "    else:\n",
    "        temp = pop(stack)\n",
    "        insertAtBottom(stack, item)\n",
    "        push(stack, temp)\n",
    "def reverse(stack):\n",
    "    if not isEmpty(stack):\n",
    "        temp = pop(stack)\n",
    "        reverse(stack)\n",
    "        insertAtBottom(stack, temp)\n",
    "def createStack():\n",
    "    stack = []\n",
    "    return stack\n",
    "def isEmpty(stack):\n",
    "    return len(stack) == 0\n",
    "def push(stack, item):\n",
    "    stack.append(item)\n",
    "def pop(stack):\n",
    "    if(isEmpty(stack)):\n",
    "        print(\"Stack Underflow \")\n",
    "        exit(1)\n",
    "    return stack.pop()\n",
    "def prints(stack):\n",
    "    for i in range(len(stack)-1, -1, -1):\n",
    "        print(stack[i], end=' ')\n",
    "    print()\n",
    "stack = createStack()\n",
    "push(stack, str(4))\n",
    "push(stack, str(3))\n",
    "push(stack, str(2))\n",
    "push(stack, str(1))\n",
    "print(\"Original Stack \")\n",
    "prints(stack)\n",
    "reverse(stack)\n",
    "print(\"Reversed Stack \")\n",
    "prints(stack)"
   ]
  },
  {
   "cell_type": "code",
   "execution_count": null,
   "id": "cfa4de36",
   "metadata": {},
   "outputs": [],
   "source": [
    "# Write a program to find the smallest number using a stack."
   ]
  }
 ],
 "metadata": {
  "kernelspec": {
   "display_name": "Python 3 (ipykernel)",
   "language": "python",
   "name": "python3"
  },
  "language_info": {
   "codemirror_mode": {
    "name": "ipython",
    "version": 3
   },
   "file_extension": ".py",
   "mimetype": "text/x-python",
   "name": "python",
   "nbconvert_exporter": "python",
   "pygments_lexer": "ipython3",
   "version": "3.11.4"
  }
 },
 "nbformat": 4,
 "nbformat_minor": 5
}
